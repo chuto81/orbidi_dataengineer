{
 "cells": [
  {
   "cell_type": "code",
   "execution_count": 107,
   "metadata": {},
   "outputs": [],
   "source": [
    "import os\n",
    "import requests\n",
    "import pandas as pd\n",
    "from dotenv import load_dotenv"
   ]
  },
  {
   "cell_type": "code",
   "execution_count": 108,
   "metadata": {},
   "outputs": [],
   "source": [
    "load_dotenv() # True\n",
    "api_key = os.environ['API_KEY']"
   ]
  },
  {
   "cell_type": "code",
   "execution_count": 114,
   "metadata": {},
   "outputs": [],
   "source": [
    "\n",
    "\n",
    "# Defina su API key\n",
    "# api_key = 'your-api-key'\n",
    "\n",
    "# Defina la URL de la API de ClickUp\n",
    "\n",
    "# extracción: https://api.clickup.com/api/v2/list/{list_id}/task\n",
    "url = 'https://api.clickup.com/api/v2/list/{list_id}/task'\n",
    "\n",
    "# Defina el ID del proyecto que desea obtener\n",
    "# list_id = '900100953154' # CLIENTES\n",
    "# list_id = '900100953291' # KD-WEB\n",
    "list_id = '900100953296' # KD-SEO\n",
    "# list_id = '900100953297' # KD-RRSS\n",
    "\n",
    "# Haga una solicitud GET a la API de ClickUp\n",
    "response = requests.get(url.format(list_id=list_id), headers={'Authorization': api_key})\n",
    "\n",
    "# Obtenga los datos de la respuesta como JSON\n",
    "data = response.json()\n"
   ]
  },
  {
   "cell_type": "code",
   "execution_count": 117,
   "metadata": {},
   "outputs": [
    {
     "data": {
      "text/plain": [
       "{'id': '85ywdaw2q',\n",
       " 'custom_id': None,\n",
       " 'name': 'KD-SEO: ROBERTO',\n",
       " 'text_content': '',\n",
       " 'description': '',\n",
       " 'status': {'status': 'Open',\n",
       "  'color': '#3e2724',\n",
       "  'type': 'open',\n",
       "  'orderindex': 0},\n",
       " 'orderindex': '79.00000000000000000000000000000000',\n",
       " 'date_created': '1681392891000',\n",
       " 'date_updated': '1681403260242',\n",
       " 'date_closed': None,\n",
       " 'date_done': None,\n",
       " 'archived': False,\n",
       " 'creator': {'id': 3182376,\n",
       "  'username': 'Isaac Cabello',\n",
       "  'color': '#757380',\n",
       "  'email': 'isaac.cabello@orbidi.com',\n",
       "  'profilePicture': 'https://attachments.clickup.com/profilePictures/3182376_rlu.jpg'},\n",
       " 'assignees': [],\n",
       " 'watchers': [],\n",
       " 'checklists': [{'id': '402f9043-2d84-41aa-9b87-2445d27c45fb',\n",
       "   'task_id': '85ywdaw2q',\n",
       "   'name': 'Checklist',\n",
       "   'date_created': '1681403260464',\n",
       "   'orderindex': 0,\n",
       "   'creator': 3182376,\n",
       "   'resolved': 0,\n",
       "   'unresolved': 1,\n",
       "   'items': [{'id': '85db46a6-170f-49f4-b962-6dbe30025a27',\n",
       "     'name': 'B) LANZAMIENTO SEO | KD-SEO',\n",
       "     'orderindex': 0,\n",
       "     'assignee': None,\n",
       "     'group_assignee': None,\n",
       "     'resolved': False,\n",
       "     'parent': None,\n",
       "     'date_created': '1681403260538',\n",
       "     'children': []}]}],\n",
       " 'tags': [],\n",
       " 'parent': None,\n",
       " 'priority': None,\n",
       " 'due_date': None,\n",
       " 'start_date': None,\n",
       " 'points': None,\n",
       " 'time_estimate': 7200000,\n",
       " 'custom_fields': [],\n",
       " 'dependencies': [],\n",
       " 'linked_tasks': [{'task_id': '85ywdaqvk',\n",
       "   'link_id': '85ywdaw2q',\n",
       "   'date_created': '1681403527895',\n",
       "   'userid': '3182376',\n",
       "   'workspace_id': '9002064381'}],\n",
       " 'team_id': '9002064381',\n",
       " 'url': 'https://app.clickup.com/t/85ywdaw2q',\n",
       " 'sharing': {'public': False,\n",
       "  'public_share_expires_on': None,\n",
       "  'public_fields': ['assignees',\n",
       "   'priority',\n",
       "   'due_date',\n",
       "   'content',\n",
       "   'comments',\n",
       "   'attachments',\n",
       "   'customFields',\n",
       "   'subtasks',\n",
       "   'tags',\n",
       "   'checklists',\n",
       "   'coverimage'],\n",
       "  'token': None,\n",
       "  'seo_optimized': False},\n",
       " 'permission_level': 'create',\n",
       " 'list': {'id': '900100953296',\n",
       "  'name': '[B) LANZAMIENTO SEO | KD-SEO]',\n",
       "  'access': True},\n",
       " 'project': {'id': '90010290587',\n",
       "  'name': 'PROYECTOS',\n",
       "  'hidden': False,\n",
       "  'access': True},\n",
       " 'folder': {'id': '90010290587',\n",
       "  'name': 'PROYECTOS',\n",
       "  'hidden': False,\n",
       "  'access': True},\n",
       " 'space': {'id': '90020119790'}}"
      ]
     },
     "execution_count": 117,
     "metadata": {},
     "output_type": "execute_result"
    }
   ],
   "source": [
    "data['tasks'][0]"
   ]
  },
  {
   "cell_type": "code",
   "execution_count": 70,
   "metadata": {},
   "outputs": [],
   "source": [
    "dict_list_id = {\n",
    "    'clientes':'900100953154',\n",
    "    'kd-web': '900100953291',\n",
    "    'kd-seo': '900100953296',\n",
    "    'kd-rrss': '900100953297'\n",
    "    }\n"
   ]
  },
  {
   "cell_type": "code",
   "execution_count": 76,
   "metadata": {},
   "outputs": [
    {
     "data": {
      "text/plain": [
       "['kd-web', 'kd-seo', 'kd-rrss']"
      ]
     },
     "execution_count": 76,
     "metadata": {},
     "output_type": "execute_result"
    }
   ],
   "source": [
    "    connection = psycopg2.connect(user=database_config['DB_USER'],\n",
    "                                  password=database_config['DB_PASSWORD'],\n",
    "                                  host=database_config['DB_HOST'],\n",
    "                                  port=database_config['DB_PORT'],\n",
    "                                  database=database_config['DB_NAME']\n",
    "                                  )\n"
   ]
  },
  {
   "cell_type": "code",
   "execution_count": 64,
   "metadata": {},
   "outputs": [
    {
     "data": {
      "text/plain": [
       "[{'task_id': '85ywdaqu6',\n",
       "  'link_id': '85ywdaw2k',\n",
       "  'date_created': '1681403349797',\n",
       "  'userid': '3182376',\n",
       "  'workspace_id': '9002064381'}]"
      ]
     },
     "execution_count": 64,
     "metadata": {},
     "output_type": "execute_result"
    }
   ],
   "source": [
    "# data['tasks'][5].keys()\n",
    "data['tasks'][0]['linked_tasks']\n",
    "# len(data['tasks'])"
   ]
  },
  {
   "cell_type": "code",
   "execution_count": 95,
   "metadata": {},
   "outputs": [],
   "source": [
    "class MyClass:\n",
    "    atributo1 = 'hola'\n",
    "    \n",
    "    def mi_metodo(self):\n",
    "        print(self.atributo1)"
   ]
  },
  {
   "cell_type": "code",
   "execution_count": 96,
   "metadata": {},
   "outputs": [
    {
     "name": "stdout",
     "output_type": "stream",
     "text": [
      "hola\n"
     ]
    }
   ],
   "source": [
    "obj = MyClass()\n",
    "obj.mi_metodo()"
   ]
  },
  {
   "cell_type": "code",
   "execution_count": 65,
   "metadata": {},
   "outputs": [
    {
     "data": {
      "text/plain": [
       "{'id': '90010290587', 'name': 'PROYECTOS', 'hidden': False, 'access': True}"
      ]
     },
     "execution_count": 65,
     "metadata": {},
     "output_type": "execute_result"
    }
   ],
   "source": [
    "data['tasks'][0]['project']"
   ]
  },
  {
   "cell_type": "code",
   "execution_count": 31,
   "metadata": {},
   "outputs": [
    {
     "ename": "ValueError",
     "evalue": "All arrays must be of the same length",
     "output_type": "error",
     "traceback": [
      "\u001b[0;31m---------------------------------------------------------------------------\u001b[0m",
      "\u001b[0;31mValueError\u001b[0m                                Traceback (most recent call last)",
      "Cell \u001b[0;32mIn[31], line 1\u001b[0m\n\u001b[0;32m----> 1\u001b[0m df \u001b[39m=\u001b[39m pd\u001b[39m.\u001b[39;49mDataFrame(data[\u001b[39m'\u001b[39;49m\u001b[39mtasks\u001b[39;49m\u001b[39m'\u001b[39;49m][\u001b[39m0\u001b[39;49m])\n\u001b[1;32m      3\u001b[0m \u001b[39m# Mostrar el DataFrame resultante\u001b[39;00m\n\u001b[1;32m      4\u001b[0m \u001b[39mprint\u001b[39m(df)\n",
      "File \u001b[0;32m~/Videos/venv-orbidi/lib/python3.10/site-packages/pandas/core/frame.py:708\u001b[0m, in \u001b[0;36mDataFrame.__init__\u001b[0;34m(self, data, index, columns, dtype, copy)\u001b[0m\n\u001b[1;32m    702\u001b[0m     mgr \u001b[39m=\u001b[39m \u001b[39mself\u001b[39m\u001b[39m.\u001b[39m_init_mgr(\n\u001b[1;32m    703\u001b[0m         data, axes\u001b[39m=\u001b[39m{\u001b[39m\"\u001b[39m\u001b[39mindex\u001b[39m\u001b[39m\"\u001b[39m: index, \u001b[39m\"\u001b[39m\u001b[39mcolumns\u001b[39m\u001b[39m\"\u001b[39m: columns}, dtype\u001b[39m=\u001b[39mdtype, copy\u001b[39m=\u001b[39mcopy\n\u001b[1;32m    704\u001b[0m     )\n\u001b[1;32m    706\u001b[0m \u001b[39melif\u001b[39;00m \u001b[39misinstance\u001b[39m(data, \u001b[39mdict\u001b[39m):\n\u001b[1;32m    707\u001b[0m     \u001b[39m# GH#38939 de facto copy defaults to False only in non-dict cases\u001b[39;00m\n\u001b[0;32m--> 708\u001b[0m     mgr \u001b[39m=\u001b[39m dict_to_mgr(data, index, columns, dtype\u001b[39m=\u001b[39;49mdtype, copy\u001b[39m=\u001b[39;49mcopy, typ\u001b[39m=\u001b[39;49mmanager)\n\u001b[1;32m    709\u001b[0m \u001b[39melif\u001b[39;00m \u001b[39misinstance\u001b[39m(data, ma\u001b[39m.\u001b[39mMaskedArray):\n\u001b[1;32m    710\u001b[0m     \u001b[39mfrom\u001b[39;00m \u001b[39mnumpy\u001b[39;00m\u001b[39m.\u001b[39;00m\u001b[39mma\u001b[39;00m \u001b[39mimport\u001b[39;00m mrecords\n",
      "File \u001b[0;32m~/Videos/venv-orbidi/lib/python3.10/site-packages/pandas/core/internals/construction.py:481\u001b[0m, in \u001b[0;36mdict_to_mgr\u001b[0;34m(data, index, columns, dtype, typ, copy)\u001b[0m\n\u001b[1;32m    477\u001b[0m     \u001b[39melse\u001b[39;00m:\n\u001b[1;32m    478\u001b[0m         \u001b[39m# dtype check to exclude e.g. range objects, scalars\u001b[39;00m\n\u001b[1;32m    479\u001b[0m         arrays \u001b[39m=\u001b[39m [x\u001b[39m.\u001b[39mcopy() \u001b[39mif\u001b[39;00m \u001b[39mhasattr\u001b[39m(x, \u001b[39m\"\u001b[39m\u001b[39mdtype\u001b[39m\u001b[39m\"\u001b[39m) \u001b[39melse\u001b[39;00m x \u001b[39mfor\u001b[39;00m x \u001b[39min\u001b[39;00m arrays]\n\u001b[0;32m--> 481\u001b[0m \u001b[39mreturn\u001b[39;00m arrays_to_mgr(arrays, columns, index, dtype\u001b[39m=\u001b[39;49mdtype, typ\u001b[39m=\u001b[39;49mtyp, consolidate\u001b[39m=\u001b[39;49mcopy)\n",
      "File \u001b[0;32m~/Videos/venv-orbidi/lib/python3.10/site-packages/pandas/core/internals/construction.py:115\u001b[0m, in \u001b[0;36marrays_to_mgr\u001b[0;34m(arrays, columns, index, dtype, verify_integrity, typ, consolidate)\u001b[0m\n\u001b[1;32m    112\u001b[0m \u001b[39mif\u001b[39;00m verify_integrity:\n\u001b[1;32m    113\u001b[0m     \u001b[39m# figure out the index, if necessary\u001b[39;00m\n\u001b[1;32m    114\u001b[0m     \u001b[39mif\u001b[39;00m index \u001b[39mis\u001b[39;00m \u001b[39mNone\u001b[39;00m:\n\u001b[0;32m--> 115\u001b[0m         index \u001b[39m=\u001b[39m _extract_index(arrays)\n\u001b[1;32m    116\u001b[0m     \u001b[39melse\u001b[39;00m:\n\u001b[1;32m    117\u001b[0m         index \u001b[39m=\u001b[39m ensure_index(index)\n",
      "File \u001b[0;32m~/Videos/venv-orbidi/lib/python3.10/site-packages/pandas/core/internals/construction.py:655\u001b[0m, in \u001b[0;36m_extract_index\u001b[0;34m(data)\u001b[0m\n\u001b[1;32m    653\u001b[0m lengths \u001b[39m=\u001b[39m \u001b[39mlist\u001b[39m(\u001b[39mset\u001b[39m(raw_lengths))\n\u001b[1;32m    654\u001b[0m \u001b[39mif\u001b[39;00m \u001b[39mlen\u001b[39m(lengths) \u001b[39m>\u001b[39m \u001b[39m1\u001b[39m:\n\u001b[0;32m--> 655\u001b[0m     \u001b[39mraise\u001b[39;00m \u001b[39mValueError\u001b[39;00m(\u001b[39m\"\u001b[39m\u001b[39mAll arrays must be of the same length\u001b[39m\u001b[39m\"\u001b[39m)\n\u001b[1;32m    657\u001b[0m \u001b[39mif\u001b[39;00m have_dicts:\n\u001b[1;32m    658\u001b[0m     \u001b[39mraise\u001b[39;00m \u001b[39mValueError\u001b[39;00m(\n\u001b[1;32m    659\u001b[0m         \u001b[39m\"\u001b[39m\u001b[39mMixing dicts with non-Series may lead to ambiguous ordering.\u001b[39m\u001b[39m\"\u001b[39m\n\u001b[1;32m    660\u001b[0m     )\n",
      "\u001b[0;31mValueError\u001b[0m: All arrays must be of the same length"
     ]
    }
   ],
   "source": [
    "df = pd.DataFrame(data['tasks'][0])\n",
    "\n",
    "# Mostrar el DataFrame resultante\n",
    "print(df)"
   ]
  },
  {
   "cell_type": "code",
   "execution_count": 97,
   "metadata": {},
   "outputs": [],
   "source": [
    "data = {'id': '85ywdaw2k',\n",
    "  'custom_id': None,\n",
    "  'name': 'KD-WEB: CAFÉ',\n",
    "  'text_content': '',\n",
    "  'description': '',\n",
    "  'status': {'status': 'Open',\n",
    "   'color': '#3e2724',\n",
    "   'type': 'open',\n",
    "   'orderindex': 0},\n",
    "  'orderindex': '76.00000000000000000000000000000000',\n",
    "  'date_created': '1681396253000',\n",
    "  'date_updated': '1681418179171',\n",
    "  'date_closed': None,\n",
    "  'date_done': None,\n",
    "  'archived': False,\n",
    "  'creator': {'id': 3182376,\n",
    "   'username': 'Isaac Cabello',\n",
    "   'color': '#757380',\n",
    "   'email': 'isaac.cabello@orbidi.com',\n",
    "   'profilePicture': 'https://attachments.clickup.com/profilePictures/3182376_rlu.jpg'},\n",
    "  'assignees': [],\n",
    "  'watchers': [],\n",
    "  'checklists': [{'id': '0da6c723-97f0-4796-9889-0f441d9266fc',\n",
    "    'task_id': '85ywdaw2k',\n",
    "    'name': 'Checklist',\n",
    "    'date_created': '1681403259046',\n",
    "    'orderindex': 0,\n",
    "    'creator': 3182376,\n",
    "    'resolved': 0,\n",
    "    'unresolved': 1,\n",
    "    'items': [{'id': '4d427c70-40ea-4785-951b-3d1a888c902c',\n",
    "      'name': 'A) WEB | KD-WEB',\n",
    "      'orderindex': 0,\n",
    "      'assignee': None,\n",
    "      'group_assignee': None,\n",
    "      'resolved': False,\n",
    "      'parent': None,\n",
    "      'date_created': '1681403259092',\n",
    "      'children': []}]}],\n",
    "  'tags': [],\n",
    "  'parent': None,\n",
    "  'priority': None,\n",
    "  'due_date': None,\n",
    "  'start_date': None,\n",
    "  'points': None,\n",
    "  'time_estimate': 3600000,\n",
    "  'custom_fields': [],\n",
    "  'dependencies': [],\n",
    "  'linked_tasks': [{'task_id': '85ywdaqu6',\n",
    "    'link_id': '85ywdaw2k',\n",
    "    'date_created': '1681403349797',\n",
    "    'userid': '3182376',\n",
    "    'workspace_id': '9002064381'}],\n",
    "  'team_id': '9002064381',\n",
    "  'url': 'https://app.clickup.com/t/85ywdaw2k',\n",
    "  'sharing': {'public': False,\n",
    "   'public_share_expires_on': None,\n",
    "   'public_fields': ['assignees',\n",
    "    'priority',\n",
    "    'due_date',\n",
    "    'content',\n",
    "    'comments',\n",
    "    'attachments',\n",
    "    'customFields',\n",
    "    'subtasks',\n",
    "    'tags',\n",
    "    'checklists',\n",
    "    'coverimage'],\n",
    "   'token': None,\n",
    "   'seo_optimized': False},\n",
    "  'permission_level': 'create',\n",
    "  'list': {'id': '900100953291', 'name': '[A) WEB | KD-WEB]', 'access': True},\n",
    "  'project': {'id': '90010290587',\n",
    "   'name': 'PROYECTOS',\n",
    "   'hidden': False,\n",
    "   'access': True},\n",
    "  'folder': {'id': '90010290587',\n",
    "   'name': 'PROYECTOS',\n",
    "   'hidden': False,\n",
    "   'access': True},\n",
    "  'space': {'id': '90020119790'}}"
   ]
  },
  {
   "cell_type": "code",
   "execution_count": 98,
   "metadata": {},
   "outputs": [],
   "source": [
    "def obtener_estructura(d):\n",
    "    estructura = {}\n",
    "    \n",
    "    for key, value in d.items():\n",
    "        if isinstance(value, dict):\n",
    "            estructura[key] = obtener_estructura(value)\n",
    "        elif isinstance(value, list):\n",
    "            if value and isinstance(value[0], dict):\n",
    "                estructura[key] = [obtener_estructura(value[0])]\n",
    "            else:\n",
    "                estructura[key] = type(value).__name__\n",
    "        else:\n",
    "            estructura[key] = type(value).__name__\n",
    "    \n",
    "    return estructura"
   ]
  },
  {
   "cell_type": "code",
   "execution_count": 99,
   "metadata": {},
   "outputs": [
    {
     "name": "stdout",
     "output_type": "stream",
     "text": [
      "{'id': 'str', 'custom_id': 'NoneType', 'name': 'str', 'text_content': 'str', 'description': 'str', 'status': {'status': 'str', 'color': 'str', 'type': 'str', 'orderindex': 'int'}, 'orderindex': 'str', 'date_created': 'str', 'date_updated': 'str', 'date_closed': 'NoneType', 'date_done': 'NoneType', 'archived': 'bool', 'creator': {'id': 'int', 'username': 'str', 'color': 'str', 'email': 'str', 'profilePicture': 'str'}, 'assignees': 'list', 'watchers': 'list', 'checklists': [{'id': 'str', 'task_id': 'str', 'name': 'str', 'date_created': 'str', 'orderindex': 'int', 'creator': 'int', 'resolved': 'int', 'unresolved': 'int', 'items': [{'id': 'str', 'name': 'str', 'orderindex': 'int', 'assignee': 'NoneType', 'group_assignee': 'NoneType', 'resolved': 'bool', 'parent': 'NoneType', 'date_created': 'str', 'children': 'list'}]}], 'tags': 'list', 'parent': 'NoneType', 'priority': 'NoneType', 'due_date': 'NoneType', 'start_date': 'NoneType', 'points': 'NoneType', 'time_estimate': 'int', 'custom_fields': 'list', 'dependencies': 'list', 'linked_tasks': [{'task_id': 'str', 'link_id': 'str', 'date_created': 'str', 'userid': 'str', 'workspace_id': 'str'}], 'team_id': 'str', 'url': 'str', 'sharing': {'public': 'bool', 'public_share_expires_on': 'NoneType', 'public_fields': 'list', 'token': 'NoneType', 'seo_optimized': 'bool'}, 'permission_level': 'str', 'list': {'id': 'str', 'name': 'str', 'access': 'bool'}, 'project': {'id': 'str', 'name': 'str', 'hidden': 'bool', 'access': 'bool'}, 'folder': {'id': 'str', 'name': 'str', 'hidden': 'bool', 'access': 'bool'}, 'space': {'id': 'str'}}\n"
     ]
    }
   ],
   "source": [
    "estructura = obtener_estructura(data)\n",
    "print(estructura)"
   ]
  },
  {
   "cell_type": "code",
   "execution_count": 100,
   "metadata": {},
   "outputs": [
    {
     "data": {
      "text/plain": [
       "'{\\n    \"id\": \"str\",\\n    \"custom_id\": \"NoneType\",\\n    \"name\": \"str\",\\n    \"text_content\": \"str\",\\n    \"description\": \"str\",\\n    \"status\": {\\n        \"status\": \"str\",\\n        \"color\": \"str\",\\n        \"type\": \"str\",\\n        \"orderindex\": \"int\"\\n    },\\n    \"orderindex\": \"str\",\\n    \"date_created\": \"str\",\\n    \"date_updated\": \"str\",\\n    \"date_closed\": \"NoneType\",\\n    \"date_done\": \"NoneType\",\\n    \"archived\": \"bool\",\\n    \"creator\": {\\n        \"id\": \"int\",\\n        \"username\": \"str\",\\n        \"color\": \"str\",\\n        \"email\": \"str\",\\n        \"profilePicture\": \"str\"\\n    },\\n    \"assignees\": \"list\",\\n    \"watchers\": \"list\",\\n    \"checklists\": [\\n        {\\n            \"id\": \"str\",\\n            \"task_id\": \"str\",\\n            \"name\": \"str\",\\n            \"date_created\": \"str\",\\n            \"orderindex\": \"int\",\\n            \"creator\": \"int\",\\n            \"resolved\": \"int\",\\n            \"unresolved\": \"int\",\\n            \"items\": [\\n                {\\n                    \"id\": \"str\",\\n                    \"name\": \"str\",\\n                    \"orderindex\": \"int\",\\n                    \"assignee\": \"NoneType\",\\n                    \"group_assignee\": \"NoneType\",\\n                    \"resolved\": \"bool\",\\n                    \"parent\": \"NoneType\",\\n                    \"date_created\": \"str\",\\n                    \"children\": \"list\"\\n                }\\n            ]\\n        }\\n    ],\\n    \"tags\": \"list\",\\n    \"parent\": \"NoneType\",\\n    \"priority\": \"NoneType\",\\n    \"due_date\": \"NoneType\",\\n    \"start_date\": \"NoneType\",\\n    \"points\": \"NoneType\",\\n    \"time_estimate\": \"int\",\\n    \"custom_fields\": \"list\",\\n    \"dependencies\": \"list\",\\n    \"linked_tasks\": [\\n        {\\n            \"task_id\": \"str\",\\n            \"link_id\": \"str\",\\n            \"date_created\": \"str\",\\n            \"userid\": \"str\",\\n            \"workspace_id\": \"str\"\\n        }\\n    ],\\n    \"team_id\": \"str\",\\n    \"url\": \"str\",\\n    \"sharing\": {\\n        \"public\": \"bool\",\\n        \"public_share_expires_on\": \"NoneType\",\\n        \"public_fields\": \"list\",\\n        \"token\": \"NoneType\",\\n        \"seo_optimized\": \"bool\"\\n    },\\n    \"permission_level\": \"str\",\\n    \"list\": {\\n        \"id\": \"str\",\\n        \"name\": \"str\",\\n        \"access\": \"bool\"\\n    },\\n    \"project\": {\\n        \"id\": \"str\",\\n        \"name\": \"str\",\\n        \"hidden\": \"bool\",\\n        \"access\": \"bool\"\\n    },\\n    \"folder\": {\\n        \"id\": \"str\",\\n        \"name\": \"str\",\\n        \"hidden\": \"bool\",\\n        \"access\": \"bool\"\\n    },\\n    \"space\": {\\n        \"id\": \"str\"\\n    }\\n}'"
      ]
     },
     "execution_count": 100,
     "metadata": {},
     "output_type": "execute_result"
    }
   ],
   "source": [
    "import json\n",
    "\n",
    "pretty = json.dumps(estructura, indent=4)\n",
    "pretty"
   ]
  },
  {
   "cell_type": "code",
   "execution_count": 101,
   "metadata": {},
   "outputs": [
    {
     "data": {
      "text/plain": [
       "dict"
      ]
     },
     "execution_count": 101,
     "metadata": {},
     "output_type": "execute_result"
    }
   ],
   "source": [
    "a = {'tasks': [{'id': '85ywdaqwp', 'custom_id': None, 'name': 'CLIENTE: 10_DARÍO', 'text_content': '', 'description': '', 'status': {'status': 'Open', 'color': '#536cfe', 'type': 'open', 'orderindex': 0}, 'orderindex': '67.00000000000000000000000000000000', 'date_created': '1681402517142', 'date_updated': '1681403281845', 'date_closed': None, 'date_done': None, 'archived': False, 'creator': {'id': 3182376, 'username': 'Isaac Cabello', 'color': '#757380', 'email': 'isaac.cabello@orbidi.com', 'profilePicture': 'https://attachments.clickup.com/profilePictures/3182376_rlu.jpg'}, 'assignees': [{'id': 3182376, 'username': 'Isaac Cabello', 'color': '#757380', 'initials': 'IC', 'email': 'isaac.cabello@orbidi.com', 'profilePicture': 'https://attachments.clickup.com/profilePictures/3182376_rlu.jpg'}], 'watchers': [], 'checklists': [{'id': 'b954c814-424c-40ee-b382-bc7afec5f2f0', 'task_id': '85ywdaqwp', 'name': 'Checklist', 'date_created': '1681402517378', 'orderindex': 0, 'creator': 3182376, 'resolved': 0, 'unresolved': 1, 'items': [{'id': '044ea7b6-2643-43b1-9227-294907671f20', 'name': 'CLIENTES', 'orderindex': 0, 'assignee': None, 'group_assignee': None, 'resolved': False, 'parent': None, 'date_created': '1681402517420', 'children': []}]}], 'tags': [], 'parent': None, 'priority': None, 'due_date': None, 'start_date': None, 'points': None, 'time_estimate': None, 'custom_fields': [{'id': '3f4afc36-b536-4cd1-a1e0-0a699ce283a7', 'name': 'CIF NIF CLIENTE Short Text Short Text', 'type': 'short_text', 'type_config': {}, 'date_created': '1681402510919', 'hide_from_guests': False, 'value': 'CLIENTE10', 'required': False}, {'id': '5690bb49-6153-4bdd-8a34-c0116b31fe77', 'name': 'ESTADO CLIENTE Drop Down Short Text', 'type': 'drop_down', 'type_config': {'options': [{'id': 'e429f7bb-2a68-4d93-bedd-52c33d90f13a', 'name': '1. INBOX', 'color': None, 'orderindex': 0}]}, 'date_created': '1681402510925', 'hide_from_guests': False, 'value': 0, 'required': False}], 'dependencies': [], 'linked_tasks': [{'task_id': '85ywdaqwp', 'link_id': '85ywdaw24', 'date_created': '1681403419563', 'userid': '3182376', 'workspace_id': '9002064381'}], 'team_id': '9002064381', 'url': 'https://app.clickup.com/t/85ywdaqwp', 'sharing': {'public': False, 'public_share_expires_on': None, 'public_fields': ['assignees', 'priority', 'due_date', 'content', 'comments', 'attachments', 'customFields', 'subtasks', 'tags', 'checklists', 'coverimage'], 'token': None, 'seo_optimized': False}, 'permission_level': 'create', 'list': {'id': '900100953154', 'name': 'CLIENTES', 'access': True}, 'project': {'id': '90010290552', 'name': 'CLIENTES', 'hidden': False, 'access': True}, 'folder': {'id': '90010290552', 'name': 'CLIENTES', 'hidden': False, 'access': True}, 'space': {'id': '90020119790'}}, {'id': '85ywdaqwd', 'custom_id': None, 'name': 'CLIENTE: 08_COMERCIAL', 'text_content': '', 'description': '', 'status': {'status': 'Open', 'color': '#536cfe', 'type': 'open', 'orderindex': 0}, 'orderindex': '66.00000000000000000000000000000000', 'date_created': '1681402516399', 'date_updated': '1681403281845', 'date_closed': None, 'date_done': None, 'archived': False, 'creator': {'id': 3182376, 'username': 'Isaac Cabello', 'color': '#757380', 'email': 'isaac.cabello@orbidi.com', 'profilePicture': 'https://attachments.clickup.com/profilePictures/3182376_rlu.jpg'}, 'assignees': [{'id': 3182376, 'username': 'Isaac Cabello', 'color': '#757380', 'initials': 'IC', 'email': 'isaac.cabello@orbidi.com', 'profilePicture': 'https://attachments.clickup.com/profilePictures/3182376_rlu.jpg'}], 'watchers': [], 'checklists': [{'id': '89024b6e-50f1-4c67-8f1d-d14b69f97665', 'task_id': '85ywdaqwd', 'name': 'Checklist', 'date_created': '1681402516653', 'orderindex': 0, 'creator': 3182376, 'resolved': 0, 'unresolved': 1, 'items': [{'id': '24df3e16-46f0-4ae3-82a7-5d3c93c9efbd', 'name': 'CLIENTES', 'orderindex': 0, 'assignee': None, 'group_assignee': None, 'resolved': False, 'parent': None, 'date_created': '1681402516707', 'children': []}]}], 'tags': [], 'parent': None, 'priority': None, 'due_date': None, 'start_date': None, 'points': None, 'time_estimate': None, 'custom_fields': [{'id': '3f4afc36-b536-4cd1-a1e0-0a699ce283a7', 'name': 'CIF NIF CLIENTE Short Text Short Text', 'type': 'short_text', 'type_config': {}, 'date_created': '1681402510919', 'hide_from_guests': False, 'value': 'CLIENTE09', 'required': False}, {'id': '5690bb49-6153-4bdd-8a34-c0116b31fe77', 'name': 'ESTADO CLIENTE Drop Down Short Text', 'type': 'drop_down', 'type_config': {'options': [{'id': 'e429f7bb-2a68-4d93-bedd-52c33d90f13a', 'name': '1. INBOX', 'color': None, 'orderindex': 0}]}, 'date_created': '1681402510925', 'hide_from_guests': False, 'value': 0, 'required': False}], 'dependencies': [], 'linked_tasks': [{'task_id': '85ywdaqwd', 'link_id': '85ywdaw29', 'date_created': '1681403430921', 'userid': '3182376', 'workspace_id': '9002064381'}], 'team_id': '9002064381', 'url': 'https://app.clickup.com/t/85ywdaqwd', 'sharing': {'public': False, 'public_share_expires_on': None, 'public_fields': ['assignees', 'priority', 'due_date', 'content', 'comments', 'attachments', 'customFields', 'subtasks', 'tags', 'checklists', 'coverimage'], 'token': None, 'seo_optimized': False}, 'permission_level': 'create', 'list': {'id': '900100953154', 'name': 'CLIENTES', 'access': True}, 'project': {'id': '90010290552', 'name': 'CLIENTES', 'hidden': False, 'access': True}, 'folder': {'id': '90010290552', 'name': 'CLIENTES', 'hidden': False, 'access': True}, 'space': {'id': '90020119790'}}, {'id': '85ywdaqw7', 'custom_id': None, 'name': 'CLIENTE: 07_HAHNEMANN', 'text_content': '', 'description': '', 'status': {'status': 'Open', 'color': '#536cfe', 'type': 'open', 'orderindex': 0}, 'orderindex': '65.00000000000000000000000000000000', 'date_created': '1681402515770', 'date_updated': '1681403281845', 'date_closed': None, 'date_done': None, 'archived': False, 'creator': {'id': 3182376, 'username': 'Isaac Cabello', 'color': '#757380', 'email': 'isaac.cabello@orbidi.com', 'profilePicture': 'https://attachments.clickup.com/profilePictures/3182376_rlu.jpg'}, 'assignees': [{'id': 3182376, 'username': 'Isaac Cabello', 'color': '#757380', 'initials': 'IC', 'email': 'isaac.cabello@orbidi.com', 'profilePicture': 'https://attachments.clickup.com/profilePictures/3182376_rlu.jpg'}], 'watchers': [], 'checklists': [{'id': '4a6f5ba2-8477-413b-9321-b2a195a03355', 'task_id': '85ywdaqw7', 'name': 'Checklist', 'date_created': '1681402516029', 'orderindex': 0, 'creator': 3182376, 'resolved': 0, 'unresolved': 1, 'items': [{'id': '2f9d91ad-be9a-44bc-87ba-2f13922f1538', 'name': 'CLIENTES', 'orderindex': 0, 'assignee': None, 'group_assignee': None, 'resolved': False, 'parent': None, 'date_created': '1681402516075', 'children': []}]}], 'tags': [], 'parent': None, 'priority': None, 'due_date': None, 'start_date': None, 'points': None, 'time_estimate': None, 'custom_fields': [{'id': '3f4afc36-b536-4cd1-a1e0-0a699ce283a7', 'name': 'CIF NIF CLIENTE Short Text Short Text', 'type': 'short_text', 'type_config': {}, 'date_created': '1681402510919', 'hide_from_guests': False, 'value': 'CLIENTE08', 'required': False}, {'id': '5690bb49-6153-4bdd-8a34-c0116b31fe77', 'name': 'ESTADO CLIENTE Drop Down Short Text', 'type': 'drop_down', 'type_config': {'options': [{'id': 'e429f7bb-2a68-4d93-bedd-52c33d90f13a', 'name': '1. INBOX', 'color': None, 'orderindex': 0}]}, 'date_created': '1681402510925', 'hide_from_guests': False, 'value': 0, 'required': False}], 'dependencies': [], 'linked_tasks': [{'task_id': '85ywdaqw7', 'link_id': '85ywdaw27', 'date_created': '1681403444525', 'userid': '3182376', 'workspace_id': '9002064381'}], 'team_id': '9002064381', 'url': 'https://app.clickup.com/t/85ywdaqw7', 'sharing': {'public': False, 'public_share_expires_on': None, 'public_fields': ['assignees', 'priority', 'due_date', 'content', 'comments', 'attachments', 'customFields', 'subtasks', 'tags', 'checklists', 'coverimage'], 'token': None, 'seo_optimized': False}, 'permission_level': 'create', 'list': {'id': '900100953154', 'name': 'CLIENTES', 'access': True}, 'project': {'id': '90010290552', 'name': 'CLIENTES', 'hidden': False, 'access': True}, 'folder': {'id': '90010290552', 'name': 'CLIENTES', 'hidden': False, 'access': True}, 'space': {'id': '90020119790'}}, {'id': '85ywdaqvy', 'custom_id': None, 'name': 'CLIENTE: 06_IMAGINE', 'text_content': '', 'description': '', 'status': {'status': 'Open', 'color': '#536cfe', 'type': 'open', 'orderindex': 0}, 'orderindex': '64.00000000000000000000000000000000', 'date_created': '1681402515101', 'date_updated': '1681403281845', 'date_closed': None, 'date_done': None, 'archived': False, 'creator': {'id': 3182376, 'username': 'Isaac Cabello', 'color': '#757380', 'email': 'isaac.cabello@orbidi.com', 'profilePicture': 'https://attachments.clickup.com/profilePictures/3182376_rlu.jpg'}, 'assignees': [{'id': 3182376, 'username': 'Isaac Cabello', 'color': '#757380', 'initials': 'IC', 'email': 'isaac.cabello@orbidi.com', 'profilePicture': 'https://attachments.clickup.com/profilePictures/3182376_rlu.jpg'}], 'watchers': [], 'checklists': [{'id': 'e307901c-56ad-4b06-b609-df07ca7ca85a', 'task_id': '85ywdaqvy', 'name': 'Checklist', 'date_created': '1681402515478', 'orderindex': 0, 'creator': 3182376, 'resolved': 0, 'unresolved': 1, 'items': [{'id': 'b6156f2c-cf85-4fec-81a1-a5e512da8709', 'name': 'CLIENTES', 'orderindex': 0, 'assignee': None, 'group_assignee': None, 'resolved': False, 'parent': None, 'date_created': '1681402515520', 'children': []}]}], 'tags': [], 'parent': None, 'priority': None, 'due_date': None, 'start_date': None, 'points': None, 'time_estimate': None, 'custom_fields': [{'id': '3f4afc36-b536-4cd1-a1e0-0a699ce283a7', 'name': 'CIF NIF CLIENTE Short Text Short Text', 'type': 'short_text', 'type_config': {}, 'date_created': '1681402510919', 'hide_from_guests': False, 'value': 'CLIENTE07', 'required': False}, {'id': '5690bb49-6153-4bdd-8a34-c0116b31fe77', 'name': 'ESTADO CLIENTE Drop Down Short Text', 'type': 'drop_down', 'type_config': {'options': [{'id': 'e429f7bb-2a68-4d93-bedd-52c33d90f13a', 'name': '1. INBOX', 'color': None, 'orderindex': 0}]}, 'date_created': '1681402510925', 'hide_from_guests': False, 'value': 0, 'required': False}], 'dependencies': [], 'linked_tasks': [{'task_id': '85ywdaqvy', 'link_id': '85ywdaw2u', 'date_created': '1681403407558', 'userid': '3182376', 'workspace_id': '9002064381'}], 'team_id': '9002064381', 'url': 'https://app.clickup.com/t/85ywdaqvy', 'sharing': {'public': False, 'public_share_expires_on': None, 'public_fields': ['assignees', 'priority', 'due_date', 'content', 'comments', 'attachments', 'customFields', 'subtasks', 'tags', 'checklists', 'coverimage'], 'token': None, 'seo_optimized': False}, 'permission_level': 'create', 'list': {'id': '900100953154', 'name': 'CLIENTES', 'access': True}, 'project': {'id': '90010290552', 'name': 'CLIENTES', 'hidden': False, 'access': True}, 'folder': {'id': '90010290552', 'name': 'CLIENTES', 'hidden': False, 'access': True}, 'space': {'id': '90020119790'}}, {'id': '85ywdaqvk', 'custom_id': None, 'name': 'CLIENTE: 05_ROBERTO', 'text_content': '', 'description': '', 'status': {'status': 'Open', 'color': '#536cfe', 'type': 'open', 'orderindex': 0}, 'orderindex': '63.00000000000000000000000000000000', 'date_created': '1681402514508', 'date_updated': '1681403281845', 'date_closed': None, 'date_done': None, 'archived': False, 'creator': {'id': 3182376, 'username': 'Isaac Cabello', 'color': '#757380', 'email': 'isaac.cabello@orbidi.com', 'profilePicture': 'https://attachments.clickup.com/profilePictures/3182376_rlu.jpg'}, 'assignees': [{'id': 3182376, 'username': 'Isaac Cabello', 'color': '#757380', 'initials': 'IC', 'email': 'isaac.cabello@orbidi.com', 'profilePicture': 'https://attachments.clickup.com/profilePictures/3182376_rlu.jpg'}], 'watchers': [], 'checklists': [{'id': 'dc62112e-0df4-4edd-b080-9f4498f81b8f', 'task_id': '85ywdaqvk', 'name': 'Checklist', 'date_created': '1681402514798', 'orderindex': 0, 'creator': 3182376, 'resolved': 0, 'unresolved': 1, 'items': [{'id': 'c37e33cf-fabe-47de-8fa7-d21203394ba1', 'name': 'CLIENTES', 'orderindex': 0, 'assignee': None, 'group_assignee': None, 'resolved': False, 'parent': None, 'date_created': '1681402514839', 'children': []}]}], 'tags': [], 'parent': None, 'priority': None, 'due_date': None, 'start_date': None, 'points': None, 'time_estimate': None, 'custom_fields': [{'id': '3f4afc36-b536-4cd1-a1e0-0a699ce283a7', 'name': 'CIF NIF CLIENTE Short Text Short Text', 'type': 'short_text', 'type_config': {}, 'date_created': '1681402510919', 'hide_from_guests': False, 'value': 'CLIENTE05', 'required': False}, {'id': '5690bb49-6153-4bdd-8a34-c0116b31fe77', 'name': 'ESTADO CLIENTE Drop Down Short Text', 'type': 'drop_down', 'type_config': {'options': [{'id': 'e429f7bb-2a68-4d93-bedd-52c33d90f13a', 'name': '1. INBOX', 'color': None, 'orderindex': 0}]}, 'date_created': '1681402510925', 'hide_from_guests': False, 'value': 0, 'required': False}], 'dependencies': [], 'linked_tasks': [{'task_id': '85ywdaqvk', 'link_id': '85ywdaw2q', 'date_created': '1681403527895', 'userid': '3182376', 'workspace_id': '9002064381'}], 'team_id': '9002064381', 'url': 'https://app.clickup.com/t/85ywdaqvk', 'sharing': {'public': False, 'public_share_expires_on': None, 'public_fields': ['assignees', 'priority', 'due_date', 'content', 'comments', 'attachments', 'customFields', 'subtasks', 'tags', 'checklists', 'coverimage'], 'token': None, 'seo_optimized': False}, 'permission_level': 'create', 'list': {'id': '900100953154', 'name': 'CLIENTES', 'access': True}, 'project': {'id': '90010290552', 'name': 'CLIENTES', 'hidden': False, 'access': True}, 'folder': {'id': '90010290552', 'name': 'CLIENTES', 'hidden': False, 'access': True}, 'space': {'id': '90020119790'}}, {'id': '85ywdaqvd', 'custom_id': None, 'name': 'CLIENTE: 04_LAS COSAS', 'text_content': '', 'description': '', 'status': {'status': 'Open', 'color': '#536cfe', 'type': 'open', 'orderindex': 0}, 'orderindex': '62.00000000000000000000000000000000', 'date_created': '1681402513993', 'date_updated': '1681403281845', 'date_closed': None, 'date_done': None, 'archived': False, 'creator': {'id': 3182376, 'username': 'Isaac Cabello', 'color': '#757380', 'email': 'isaac.cabello@orbidi.com', 'profilePicture': 'https://attachments.clickup.com/profilePictures/3182376_rlu.jpg'}, 'assignees': [{'id': 3182376, 'username': 'Isaac Cabello', 'color': '#757380', 'initials': 'IC', 'email': 'isaac.cabello@orbidi.com', 'profilePicture': 'https://attachments.clickup.com/profilePictures/3182376_rlu.jpg'}], 'watchers': [], 'checklists': [{'id': '3e954ee0-ed5c-49be-81c8-a147cbfb900d', 'task_id': '85ywdaqvd', 'name': 'Checklist', 'date_created': '1681402514209', 'orderindex': 0, 'creator': 3182376, 'resolved': 0, 'unresolved': 1, 'items': [{'id': '79ac8af0-1197-417b-8806-8ab83df7175e', 'name': 'CLIENTES', 'orderindex': 0, 'assignee': None, 'group_assignee': None, 'resolved': False, 'parent': None, 'date_created': '1681402514252', 'children': []}]}], 'tags': [], 'parent': None, 'priority': None, 'due_date': None, 'start_date': None, 'points': None, 'time_estimate': None, 'custom_fields': [{'id': '3f4afc36-b536-4cd1-a1e0-0a699ce283a7', 'name': 'CIF NIF CLIENTE Short Text Short Text', 'type': 'short_text', 'type_config': {}, 'date_created': '1681402510919', 'hide_from_guests': False, 'value': 'CLIENTE04', 'required': False}, {'id': '5690bb49-6153-4bdd-8a34-c0116b31fe77', 'name': 'ESTADO CLIENTE Drop Down Short Text', 'type': 'drop_down', 'type_config': {'options': [{'id': 'e429f7bb-2a68-4d93-bedd-52c33d90f13a', 'name': '1. INBOX', 'color': None, 'orderindex': 0}]}, 'date_created': '1681402510925', 'hide_from_guests': False, 'value': 0, 'required': False}], 'dependencies': [], 'linked_tasks': [{'task_id': '85ywdaqvd', 'link_id': '85ywdaw2v', 'date_created': '1681403396307', 'userid': '3182376', 'workspace_id': '9002064381'}], 'team_id': '9002064381', 'url': 'https://app.clickup.com/t/85ywdaqvd', 'sharing': {'public': False, 'public_share_expires_on': None, 'public_fields': ['assignees', 'priority', 'due_date', 'content', 'comments', 'attachments', 'customFields', 'subtasks', 'tags', 'checklists', 'coverimage'], 'token': None, 'seo_optimized': False}, 'permission_level': 'create', 'list': {'id': '900100953154', 'name': 'CLIENTES', 'access': True}, 'project': {'id': '90010290552', 'name': 'CLIENTES', 'hidden': False, 'access': True}, 'folder': {'id': '90010290552', 'name': 'CLIENTES', 'hidden': False, 'access': True}, 'space': {'id': '90020119790'}}, {'id': '85ywdaqv2', 'custom_id': None, 'name': 'CLIENTE: 03_ROCÍO', 'text_content': '', 'description': '', 'status': {'status': 'Open', 'color': '#536cfe', 'type': 'open', 'orderindex': 0}, 'orderindex': '61.00000000000000000000000000000000', 'date_created': '1681402513174', 'date_updated': '1681403281845', 'date_closed': None, 'date_done': None, 'archived': False, 'creator': {'id': 3182376, 'username': 'Isaac Cabello', 'color': '#757380', 'email': 'isaac.cabello@orbidi.com', 'profilePicture': 'https://attachments.clickup.com/profilePictures/3182376_rlu.jpg'}, 'assignees': [{'id': 3182376, 'username': 'Isaac Cabello', 'color': '#757380', 'initials': 'IC', 'email': 'isaac.cabello@orbidi.com', 'profilePicture': 'https://attachments.clickup.com/profilePictures/3182376_rlu.jpg'}], 'watchers': [], 'checklists': [{'id': 'd64ab85b-dafe-412d-bc2b-baad7067946d', 'task_id': '85ywdaqv2', 'name': 'Checklist', 'date_created': '1681402513452', 'orderindex': 0, 'creator': 3182376, 'resolved': 0, 'unresolved': 1, 'items': [{'id': '839911b1-9337-4715-aef7-b9ead970782b', 'name': 'CLIENTES', 'orderindex': 0, 'assignee': None, 'group_assignee': None, 'resolved': False, 'parent': None, 'date_created': '1681402513630', 'children': []}]}], 'tags': [], 'parent': None, 'priority': None, 'due_date': None, 'start_date': None, 'points': None, 'time_estimate': None, 'custom_fields': [{'id': '3f4afc36-b536-4cd1-a1e0-0a699ce283a7', 'name': 'CIF NIF CLIENTE Short Text Short Text', 'type': 'short_text', 'type_config': {}, 'date_created': '1681402510919', 'hide_from_guests': False, 'value': 'CLIENTE03', 'required': False}, {'id': '5690bb49-6153-4bdd-8a34-c0116b31fe77', 'name': 'ESTADO CLIENTE Drop Down Short Text', 'type': 'drop_down', 'type_config': {'options': [{'id': 'e429f7bb-2a68-4d93-bedd-52c33d90f13a', 'name': '1. INBOX', 'color': None, 'orderindex': 0}]}, 'date_created': '1681402510925', 'hide_from_guests': False, 'value': 0, 'required': False}], 'dependencies': [], 'linked_tasks': [{'task_id': '85ywdaqv2', 'link_id': '85ywdaw2j', 'date_created': '1681403384848', 'userid': '3182376', 'workspace_id': '9002064381'}], 'team_id': '9002064381', 'url': 'https://app.clickup.com/t/85ywdaqv2', 'sharing': {'public': False, 'public_share_expires_on': None, 'public_fields': ['assignees', 'priority', 'due_date', 'content', 'comments', 'attachments', 'customFields', 'subtasks', 'tags', 'checklists', 'coverimage'], 'token': None, 'seo_optimized': False}, 'permission_level': 'create', 'list': {'id': '900100953154', 'name': 'CLIENTES', 'access': True}, 'project': {'id': '90010290552', 'name': 'CLIENTES', 'hidden': False, 'access': True}, 'folder': {'id': '90010290552', 'name': 'CLIENTES', 'hidden': False, 'access': True}, 'space': {'id': '90020119790'}}, {'id': '85ywdaqut', 'custom_id': None, 'name': 'CLIENTE: 02_DISCOTECAS', 'text_content': '', 'description': '', 'status': {'status': 'Open', 'color': '#536cfe', 'type': 'open', 'orderindex': 0}, 'orderindex': '60.00000000000000000000000000000000', 'date_created': '1681402512564', 'date_updated': '1681403281845', 'date_closed': None, 'date_done': None, 'archived': False, 'creator': {'id': 3182376, 'username': 'Isaac Cabello', 'color': '#757380', 'email': 'isaac.cabello@orbidi.com', 'profilePicture': 'https://attachments.clickup.com/profilePictures/3182376_rlu.jpg'}, 'assignees': [{'id': 3182376, 'username': 'Isaac Cabello', 'color': '#757380', 'initials': 'IC', 'email': 'isaac.cabello@orbidi.com', 'profilePicture': 'https://attachments.clickup.com/profilePictures/3182376_rlu.jpg'}], 'watchers': [], 'checklists': [{'id': '94766d5d-433b-4920-b574-ea651a1a459c', 'task_id': '85ywdaqut', 'name': 'Checklist', 'date_created': '1681402512817', 'orderindex': 0, 'creator': 3182376, 'resolved': 0, 'unresolved': 1, 'items': [{'id': 'cadbb993-fe9c-4ebb-9c32-66e9f84b028f', 'name': 'CLIENTES', 'orderindex': 0, 'assignee': None, 'group_assignee': None, 'resolved': False, 'parent': None, 'date_created': '1681402512867', 'children': []}]}], 'tags': [], 'parent': None, 'priority': None, 'due_date': None, 'start_date': None, 'points': None, 'time_estimate': None, 'custom_fields': [{'id': '3f4afc36-b536-4cd1-a1e0-0a699ce283a7', 'name': 'CIF NIF CLIENTE Short Text Short Text', 'type': 'short_text', 'type_config': {}, 'date_created': '1681402510919', 'hide_from_guests': False, 'value': 'CLIENTE02', 'required': False}, {'id': '5690bb49-6153-4bdd-8a34-c0116b31fe77', 'name': 'ESTADO CLIENTE Drop Down Short Text', 'type': 'drop_down', 'type_config': {'options': [{'id': 'e429f7bb-2a68-4d93-bedd-52c33d90f13a', 'name': '1. INBOX', 'color': None, 'orderindex': 0}]}, 'date_created': '1681402510925', 'hide_from_guests': False, 'value': 0, 'required': False}], 'dependencies': [], 'linked_tasks': [{'task_id': '85ywdaqut', 'link_id': '85ywdaw2f', 'date_created': '1681403375477', 'userid': '3182376', 'workspace_id': '9002064381'}], 'team_id': '9002064381', 'url': 'https://app.clickup.com/t/85ywdaqut', 'sharing': {'public': False, 'public_share_expires_on': None, 'public_fields': ['assignees', 'priority', 'due_date', 'content', 'comments', 'attachments', 'customFields', 'subtasks', 'tags', 'checklists', 'coverimage'], 'token': None, 'seo_optimized': False}, 'permission_level': 'create', 'list': {'id': '900100953154', 'name': 'CLIENTES', 'access': True}, 'project': {'id': '90010290552', 'name': 'CLIENTES', 'hidden': False, 'access': True}, 'folder': {'id': '90010290552', 'name': 'CLIENTES', 'hidden': False, 'access': True}, 'space': {'id': '90020119790'}}, {'id': '85ywdaqu6', 'custom_id': None, 'name': 'CLIENTE: 01_CAFÉ', 'text_content': '', 'description': '', 'status': {'status': 'Open', 'color': '#536cfe', 'type': 'open', 'orderindex': 0}, 'orderindex': '59.00000000000000000000000000000000', 'date_created': '1681402511335', 'date_updated': '1681403281845', 'date_closed': None, 'date_done': None, 'archived': False, 'creator': {'id': 3182376, 'username': 'Isaac Cabello', 'color': '#757380', 'email': 'isaac.cabello@orbidi.com', 'profilePicture': 'https://attachments.clickup.com/profilePictures/3182376_rlu.jpg'}, 'assignees': [{'id': 3182376, 'username': 'Isaac Cabello', 'color': '#757380', 'initials': 'IC', 'email': 'isaac.cabello@orbidi.com', 'profilePicture': 'https://attachments.clickup.com/profilePictures/3182376_rlu.jpg'}], 'watchers': [], 'checklists': [{'id': '8fd175a4-e76c-470f-ad4b-160057a6039c', 'task_id': '85ywdaqu6', 'name': 'Checklist', 'date_created': '1681402512228', 'orderindex': 0, 'creator': 3182376, 'resolved': 0, 'unresolved': 1, 'items': [{'id': 'be270afd-891a-4c5b-89fd-053ecd7f80f1', 'name': 'CLIENTES', 'orderindex': 0, 'assignee': None, 'group_assignee': None, 'resolved': False, 'parent': None, 'date_created': '1681402512280', 'children': []}]}], 'tags': [], 'parent': None, 'priority': None, 'due_date': None, 'start_date': None, 'points': None, 'time_estimate': None, 'custom_fields': [{'id': '3f4afc36-b536-4cd1-a1e0-0a699ce283a7', 'name': 'CIF NIF CLIENTE Short Text Short Text', 'type': 'short_text', 'type_config': {}, 'date_created': '1681402510919', 'hide_from_guests': False, 'value': 'CLIENTE01', 'required': False}, {'id': '5690bb49-6153-4bdd-8a34-c0116b31fe77', 'name': 'ESTADO CLIENTE Drop Down Short Text', 'type': 'drop_down', 'type_config': {'options': [{'id': 'e429f7bb-2a68-4d93-bedd-52c33d90f13a', 'name': '1. INBOX', 'color': None, 'orderindex': 0}]}, 'date_created': '1681402510925', 'hide_from_guests': False, 'value': 0, 'required': False}], 'dependencies': [], 'linked_tasks': [{'task_id': '85ywdaqu6', 'link_id': '85ywdaw2k', 'date_created': '1681403349797', 'userid': '3182376', 'workspace_id': '9002064381'}], 'team_id': '9002064381', 'url': 'https://app.clickup.com/t/85ywdaqu6', 'sharing': {'public': False, 'public_share_expires_on': None, 'public_fields': ['assignees', 'priority', 'due_date', 'content', 'comments', 'attachments', 'customFields', 'subtasks', 'tags', 'checklists', 'coverimage'], 'token': None, 'seo_optimized': False}, 'permission_level': 'create', 'list': {'id': '900100953154', 'name': 'CLIENTES', 'access': True}, 'project': {'id': '90010290552', 'name': 'CLIENTES', 'hidden': False, 'access': True}, 'folder': {'id': '90010290552', 'name': 'CLIENTES', 'hidden': False, 'access': True}, 'space': {'id': '90020119790'}}]}\n",
    "type (a)"
   ]
  },
  {
   "cell_type": "code",
   "execution_count": null,
   "metadata": {},
   "outputs": [],
   "source": []
  }
 ],
 "metadata": {
  "kernelspec": {
   "display_name": "venv-orbidi",
   "language": "python",
   "name": "python3"
  },
  "language_info": {
   "codemirror_mode": {
    "name": "ipython",
    "version": 3
   },
   "file_extension": ".py",
   "mimetype": "text/x-python",
   "name": "python",
   "nbconvert_exporter": "python",
   "pygments_lexer": "ipython3",
   "version": "3.10.6"
  },
  "orig_nbformat": 4
 },
 "nbformat": 4,
 "nbformat_minor": 2
}
